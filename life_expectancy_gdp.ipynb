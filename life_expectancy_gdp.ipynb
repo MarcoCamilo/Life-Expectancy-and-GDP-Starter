{
 "cells": [
  {
   "cell_type": "markdown",
   "metadata": {},
   "source": [
    "# Life Expectancy and GDP Analysis"
   ]
  },
  {
   "cell_type": "markdown",
   "metadata": {},
   "source": [
    "In this project, I'll analyze data on GDP and life expectancy from the World Health Organization and the World Bank to try and identify the relationship between the GDP and life expectancy of six countries."
   ]
  },
  {
   "cell_type": "markdown",
   "metadata": {},
   "source": [
    "## Import Data"
   ]
  },
  {
   "cell_type": "code",
   "execution_count": 1,
   "metadata": {},
   "outputs": [],
   "source": [
    "import pandas as pd\n",
    "import numpy as np\n",
    "from matplotlib import pyplot as plt\n",
    "import seaborn as sn\n",
    "\n",
    "df = pd.read_csv('all_data.csv')"
   ]
  },
  {
   "cell_type": "markdown",
   "metadata": {},
   "source": [
    "## Exploratory Data Analysis"
   ]
  },
  {
   "cell_type": "markdown",
   "metadata": {},
   "source": [
    "First, I'll explore the type of data stored using `.info()`"
   ]
  },
  {
   "cell_type": "code",
   "execution_count": 2,
   "metadata": {},
   "outputs": [
    {
     "name": "stdout",
     "output_type": "stream",
     "text": [
      "-------------------Column Info-------------------\n",
      "<class 'pandas.core.frame.DataFrame'>\n",
      "RangeIndex: 96 entries, 0 to 95\n",
      "Data columns (total 4 columns):\n",
      " #   Column                            Non-Null Count  Dtype  \n",
      "---  ------                            --------------  -----  \n",
      " 0   Country                           96 non-null     object \n",
      " 1   Year                              96 non-null     int64  \n",
      " 2   Life expectancy at birth (years)  96 non-null     float64\n",
      " 3   GDP                               96 non-null     float64\n",
      "dtypes: float64(2), int64(1), object(1)\n",
      "memory usage: 3.1+ KB\n",
      "None\n",
      "-------------------Countries-------------------\n",
      "Chile                       16\n",
      "China                       16\n",
      "Germany                     16\n",
      "Mexico                      16\n",
      "United States of America    16\n",
      "Zimbabwe                    16\n",
      "Name: Country, dtype: int64\n",
      "-------------------Years-------------------\n",
      "2000    6\n",
      "2001    6\n",
      "2002    6\n",
      "2003    6\n",
      "2004    6\n",
      "2005    6\n",
      "2006    6\n",
      "2007    6\n",
      "2008    6\n",
      "2009    6\n",
      "2010    6\n",
      "2011    6\n",
      "2012    6\n",
      "2013    6\n",
      "2014    6\n",
      "2015    6\n",
      "Name: Year, dtype: int64\n",
      "\n",
      "There are 16 years entered in this DataFrame\n"
     ]
    }
   ],
   "source": [
    "print('-------------------Column Info-------------------')\n",
    "print(df.info())\n",
    "\n",
    "print('-------------------Countries-------------------')\n",
    "print(df.Country.value_counts())\n",
    "\n",
    "print('-------------------Years-------------------')\n",
    "print(df.Year.value_counts())\n",
    "print(f'\\nThere are {len(df.Year.value_counts())} years entered in this DataFrame')\n",
    "\n",
    "df.replace(\"United States of America\", \"USA\", inplace=True)"
   ]
  },
  {
   "cell_type": "markdown",
   "metadata": {},
   "source": [
    "The DataFrame consists of exactly 96 entries with information on countries, years, life expectancy and GDP. Exploring the `Country` and `Year` columns, there are exactly 6 countries with 16 entries each, and 16 years with 6 entries each. \n",
    "\n",
    "Based on this one can suspect all six countries are represented once in each of the 16 years, making up the 96 entries in total. This I'll verify when visualizing the data."
   ]
  },
  {
   "cell_type": "markdown",
   "metadata": {},
   "source": [
    "Next, I'll plot the information from the different columns, to visualize the distribution of the values."
   ]
  },
  {
   "cell_type": "code",
   "execution_count": 3,
   "metadata": {},
   "outputs": [
    {
     "data": {
      "image/png": "[encoded data removed]",
      "text/plain": [
       "<Figure size 576x288 with 1 Axes>"
      ]
     },
     "metadata": {
      "needs_background": "light"
     },
     "output_type": "display_data"
    },
    {
     "data": {
      "text/plain": [
       "<Figure size 432x288 with 0 Axes>"
      ]
     },
     "metadata": {},
     "output_type": "display_data"
    },
    {
     "data": {
      "image/png": "[encoded data removed]",
      "text/plain": [
       "<Figure size 1008x288 with 2 Axes>"
      ]
     },
     "metadata": {
      "needs_background": "light"
     },
     "output_type": "display_data"
    },
    {
     "name": "stdout",
     "output_type": "stream",
     "text": [
      "count    96.000000\n",
      "mean     72.789583\n",
      "std      10.672882\n",
      "min      44.300000\n",
      "25%      74.475000\n",
      "50%      76.750000\n",
      "75%      78.900000\n",
      "max      81.000000\n",
      "Name: Life expectancy at birth (years), dtype: float64\n"
     ]
    },
    {
     "data": {
      "text/plain": [
       "<Figure size 432x288 with 0 Axes>"
      ]
     },
     "metadata": {},
     "output_type": "display_data"
    },
    {
     "data": {
      "image/png": "[encoded data removed]",
      "text/plain": [
       "<Figure size 1008x288 with 2 Axes>"
      ]
     },
     "metadata": {
      "needs_background": "light"
     },
     "output_type": "display_data"
    },
    {
     "name": "stdout",
     "output_type": "stream",
     "text": [
      "count    9.600000e+01\n",
      "mean     3.880499e+12\n",
      "std      5.197561e+12\n",
      "min      4.415703e+09\n",
      "25%      1.733018e+11\n",
      "50%      1.280220e+12\n",
      "75%      4.067510e+12\n",
      "max      1.810000e+13\n",
      "Name: GDP, dtype: float64\n"
     ]
    },
    {
     "data": {
      "text/plain": [
       "<Figure size 432x288 with 0 Axes>"
      ]
     },
     "metadata": {},
     "output_type": "display_data"
    }
   ],
   "source": [
    "plt.figure(figsize = (8,4))\n",
    "sn.countplot(data = df, x = 'Year', hue = 'Country')\n",
    "plt.title('Distribution of countries in years')\n",
    "plt.show()\n",
    "plt.clf()\n",
    "\n",
    "plt.figure(figsize = (14,4))\n",
    "plt.suptitle('Life Expectancy Distribution')\n",
    "plt.subplot(1,2,1)\n",
    "sn.histplot(data = df, x = 'Life expectancy at birth (years)')\n",
    "plt.legend(['mean'])\n",
    "plt.subplot(1,2,2)\n",
    "sn.boxplot(data = df, x = 'Life expectancy at birth (years)')\n",
    "plt.show()\n",
    "plt.clf()\n",
    "\n",
    "print(df['Life expectancy at birth (years)'].describe())\n",
    "\n",
    "plt.figure(figsize = (14,4))\n",
    "plt.suptitle('GDP Distribution')\n",
    "plt.subplot(1,2,1)\n",
    "sn.histplot(data = df, x = 'GDP')\n",
    "\n",
    "plt.subplot(1,2,2)\n",
    "sn.boxplot(data = df, x = 'GDP')\n",
    "plt.show()\n",
    "plt.clf()\n",
    "\n",
    "print(df.GDP.describe())"
   ]
  },
  {
   "cell_type": "markdown",
   "metadata": {},
   "source": [
    "Based on the initial EDA, I can confirm that the countries are equally represented in each of the 16 years in the dataset (i.e. each country appears once per year).\n",
    "\n",
    "Moreover, the counts of GDP and life expectancy are inversely related: there are more high life expectancy counts and more low GDPs. Whether these counts translate to a correlation between these two variables is what I'll in the following bivariate analyses."
   ]
  },
  {
   "cell_type": "markdown",
   "metadata": {},
   "source": [
    "## Analysis"
   ]
  },
  {
   "cell_type": "markdown",
   "metadata": {},
   "source": [
    "In the following subsections I'll explore the relationships between the variables of this dataset, especially between the GDP and life expectancy of six countries. "
   ]
  },
  {
   "cell_type": "markdown",
   "metadata": {},
   "source": [
    "### Countries ~ Life Expectancy\n",
    "**Q:** How does life expectancy vary between the six countries?"
   ]
  },
  {
   "cell_type": "code",
   "execution_count": 4,
   "metadata": {},
   "outputs": [
    {
     "name": "stdout",
     "output_type": "stream",
     "text": [
      "    Country  Life expectancy at birth (years)\n",
      "0   Germany                          79.65625\n",
      "1     Chile                          78.94375\n",
      "2       USA                          78.06250\n",
      "3    Mexico                          75.71875\n",
      "4     China                          74.26250\n",
      "5  Zimbabwe                          50.09375\n"
     ]
    },
    {
     "data": {
      "image/png": "[encoded data removed]",
      "text/plain": [
       "<Figure size 504x360 with 1 Axes>"
      ]
     },
     "metadata": {
      "needs_background": "light"
     },
     "output_type": "display_data"
    },
    {
     "name": "stdout",
     "output_type": "stream",
     "text": [
      "Life expectancies for Chile, China, Germany, Mexico and the US: \n",
      "Mean: 50.09 \n",
      "Standard deviation: 2.27\n",
      "\n",
      "Life expectancy for Zimbabwe: \n",
      "Mean: 77.33 \n",
      "Standard deviation: 5.94\n"
     ]
    }
   ],
   "source": [
    "import statistics as st\n",
    "\n",
    "group_lf = df['Life expectancy at birth (years)'].groupby(df.Country).mean().sort_values(ascending = False).reset_index()\n",
    "print(group_lf)\n",
    "\n",
    "plt.figure(figsize = (7,5))\n",
    "plt.title('Life Expectancy per Country from 2000 to 2015')\n",
    "sn.boxplot(data = df, x = 'Country', y = 'Life expectancy at birth (years)', order = group_lf.Country)\n",
    "locs, labels=plt.xticks()\n",
    "plt.show()\n",
    "\n",
    "mean_lf_no_Z = st.mean(group_lf['Life expectancy at birth (years)'][0:5])\n",
    "std_lf_no_Z = st.stdev(group_lf['Life expectancy at birth (years)'][0:5])\n",
    "mean_Z = st.mean(df.loc[df.Country == 'Zimbabwe']['Life expectancy at birth (years)'])\n",
    "std_Z = st.stdev(df.loc[df.Country == 'Zimbabwe']['Life expectancy at birth (years)'])\n",
    "\n",
    "mean_lf_no_Z = np.mean(group_lf['Life expectancy at birth (years)'][0:5])\n",
    "mean_Z = np.mean(group_lf.iloc[[5]]['Life expectancy at birth (years)'])\n",
    "\n",
    "print('Life expectancies for Chile, China, Germany, Mexico and the US:',\n",
    "        f'\\nMean: {round(mean_Z, 2)}',\n",
    "        f'\\nStandard deviation: {round(std_lf_no_Z, 2)}')\n",
    "\n",
    "print('\\nLife expectancy for Zimbabwe:',\n",
    "        f'\\nMean: {round(mean_lf_no_Z, 2)}',\n",
    "        f'\\nStandard deviation: {round(std_Z, 2)}')"
   ]
  },
  {
   "cell_type": "markdown",
   "metadata": {},
   "source": [
    "**A:** Germany, Chile, USA, Mexico and China have the highest life expectancies in the dataset, while Zimbabwe has the lowest. This confirms that the Zimbabwe forms the outlier observed in the above EDA."
   ]
  },
  {
   "cell_type": "markdown",
   "metadata": {},
   "source": [
    "### Country ~ GDP\n",
    "**Q:** How does GDP vary among the countries listed? "
   ]
  },
  {
   "cell_type": "code",
   "execution_count": 7,
   "metadata": {},
   "outputs": [
    {
     "name": "stdout",
     "output_type": "stream",
     "text": [
      "    Country           GDP\n",
      "0       USA  1.407500e+13\n",
      "1     China  4.957714e+12\n",
      "2   Germany  3.094776e+12\n",
      "3    Mexico  9.766506e+11\n",
      "4     Chile  1.697888e+11\n",
      "5  Zimbabwe  9.062580e+09\n"
     ]
    },
    {
     "data": {
      "image/png": "[encoded data removed]",
      "text/plain": [
       "<Figure size 504x360 with 1 Axes>"
      ]
     },
     "metadata": {
      "needs_background": "light"
     },
     "output_type": "display_data"
    },
    {
     "name": "stdout",
     "output_type": "stream",
     "text": [
      "GDP for the US: \n",
      "Mean: 14T \n",
      "Standard deviation: 2.43T\n",
      "\n",
      "GDP for China and Germany: \n",
      "Mean: 4.03T \n",
      "Standard deviation: 1.32T\n",
      "\n",
      "GDP for Mexico, Chile and Zimbabwe: \n",
      "Mean: 385.17B \n",
      "Standard deviation: 518.51B\n"
     ]
    }
   ],
   "source": [
    "import statistics as st\n",
    "\n",
    "group_gdp = df['GDP'].groupby(df.Country).mean().sort_values(ascending = False).reset_index()\n",
    "print(group_gdp)\n",
    "\n",
    "plt.figure(figsize = (7,5))\n",
    "plt.title('GDP per Country')\n",
    "sn.boxplot(data = df, x = 'Country', y = 'GDP', order = group_gdp.Country)\n",
    "locs, labels=plt.xticks()\n",
    "plt.show()\n",
    "\n",
    "mean_gdp_usa = st.mean(df.loc[df.Country == 'USA']['GDP'])/1e12\n",
    "std_gdp_usa = st.stdev(df.loc[df.Country == 'USA']['GDP'])/1e12\n",
    "\n",
    "mean_gdp_middle = st.mean(group_gdp['GDP'][1:3])/1e12\n",
    "std_gdp_middle = st.stdev(group_gdp['GDP'][1:3])/1e12\n",
    "\n",
    "mean_gdp_low3 = st.mean(group_gdp['GDP'][3:])/1e9\n",
    "std_gdp_low3 = st.stdev(group_gdp['GDP'][3:])/1e9\n",
    "\n",
    "print('GDP for the US:',\n",
    "        f'\\nMean: {round(mean_gdp_usa)}T',\n",
    "        f'\\nStandard deviation: {round(std_gdp_usa, 2)}T')\n",
    "\n",
    "print('\\nGDP for China and Germany:',\n",
    "        f'\\nMean: {round(mean_gdp_middle, 2)}T',\n",
    "        f'\\nStandard deviation: {round(std_gdp_middle, 2)}T')\n",
    "\n",
    "print('\\nGDP for Mexico, Chile and Zimbabwe:',\n",
    "        f'\\nMean: {round(mean_gdp_low3, 2)}B',\n",
    "        f'\\nStandard deviation: {round(std_gdp_low3, 2)}B')"
   ]
  },
  {
   "cell_type": "markdown",
   "metadata": {},
   "source": []
  }
 ],
 "metadata": {
  "kernelspec": {
   "display_name": "Python 3.10.5 64-bit",
   "language": "python",
   "name": "python3"
  },
  "language_info": {
   "codemirror_mode": {
    "name": "ipython",
    "version": 3
   },
   "file_extension": ".py",
   "mimetype": "text/x-python",
   "name": "python",
   "nbconvert_exporter": "python",
   "pygments_lexer": "ipython3",
   "version": "3.10.5"
  },
  "vscode": {
   "interpreter": {
    "hash": "949777d72b0d2535278d3dc13498b2535136f6dfe0678499012e853ee9abcab1"
   }
  }
 },
 "nbformat": 4,
 "nbformat_minor": 4
}
